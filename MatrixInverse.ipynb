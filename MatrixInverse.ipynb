{
  "metadata": {
    "kernelspec": {
      "name": "python",
      "display_name": "Python (Pyodide)",
      "language": "python"
    },
    "language_info": {
      "codemirror_mode": {
        "name": "python",
        "version": 3
      },
      "file_extension": ".py",
      "mimetype": "text/x-python",
      "name": "python",
      "nbconvert_exporter": "python",
      "pygments_lexer": "ipython3",
      "version": "3.8"
    }
  },
  "nbformat_minor": 4,
  "nbformat": 4,
  "cells": [
    {
      "cell_type": "code",
      "source": "import numpy as np",
      "metadata": {
        "trusted": true
      },
      "outputs": [],
      "execution_count": 1
    },
    {
      "cell_type": "markdown",
      "source": "Problem 1",
      "metadata": {}
    },
    {
      "cell_type": "code",
      "source": "\n# Define the matrix A\nA = np.array([[3, 4], [2, 5]])\n\n# Check if the determinant is non-zero (a prerequisite for inversion)\ndeterminant = np.linalg.det(A)\nif determinant != 0:\n    # Find the inverse of the matrix\n    A_inverse = np.linalg.inv(A)\n    print(\"The inverse of matrix A is:\")\n    print(A_inverse)\nelse:\n    print(\"Matrix A is not invertible.\")",
      "metadata": {
        "trusted": true
      },
      "outputs": [
        {
          "name": "stdout",
          "text": "The inverse of matrix A is:\n[[ 0.71428571 -0.57142857]\n [-0.28571429  0.42857143]]\n",
          "output_type": "stream"
        }
      ],
      "execution_count": 2
    },
    {
      "cell_type": "markdown",
      "source": "Problem 2",
      "metadata": {}
    },
    {
      "cell_type": "code",
      "source": "# Define the coefficient matrix and the constant matrix\ncoefficients = np.array([[2, 3], [4, -1]])\nconstants = np.array([7, 5])\n\n# Solve the system of equations using np.linalg.solve\nsolution = np.linalg.solve(coefficients, constants)\n\n# Print the solutions for x and y\nprint(\"The solution to the system of equations is:\")\nprint(f\"x = {solution[0]}, y = {solution[1]}\")\n",
      "metadata": {
        "trusted": true
      },
      "outputs": [
        {
          "name": "stdout",
          "text": "The solution to the system of equations is:\nx = 1.5714285714285714, y = 1.2857142857142858\n",
          "output_type": "stream"
        }
      ],
      "execution_count": 3
    },
    {
      "cell_type": "markdown",
      "source": "Problem 3",
      "metadata": {}
    },
    {
      "cell_type": "code",
      "source": "# Define the matrix A\nA = np.array([[1, 2, 3], [0, 1, 4], [5, 6, 0]])\n\n# Compute the determinant\ndeterminant = np.linalg.det(A)\nprint(f\"The determinant of matrix A is: {determinant}\")\n\n# Compute the rank\nrank = np.linalg.matrix_rank(A)\nprint(f\"The rank of matrix A is: {rank}\")\n",
      "metadata": {
        "trusted": true
      },
      "outputs": [
        {
          "name": "stdout",
          "text": "The determinant of matrix A is: 0.9999999999999964\nThe rank of matrix A is: 3\n",
          "output_type": "stream"
        }
      ],
      "execution_count": 4
    },
    {
      "cell_type": "markdown",
      "source": "Problem 4",
      "metadata": {}
    },
    {
      "cell_type": "code",
      "source": "# Define the coefficient matrix and the constants\ncoefficients = np.array([[1, 1, 1], [2, 5, 1], [2, 3, 8]])  # Coefficient matrix\nconstants = np.array([6, -4, 9])  # Constants on the right-hand side\n\n# Check if the determinant is non-zero (a prerequisite for using the inverse)\ndeterminant = np.linalg.det(coefficients)\nif determinant != 0:\n    # Find the inverse of the coefficient matrix\n    coefficients_inverse = np.linalg.inv(coefficients)\n\n    # Solve for the variables by multiplying the inverse with the constants\n    solution = np.dot(coefficients_inverse, constants)\n\n    print(\"The solution to the system of equations is:\")\n    print(f\"x = {solution[0]}, y = {solution[1]}, z = {solution[2]}\")\nelse:\n    print(\"The coefficient matrix is singular and cannot be inverted.\")",
      "metadata": {
        "trusted": true
      },
      "outputs": [
        {
          "name": "stdout",
          "text": "The solution to the system of equations is:\nx = 10.842105263157894, y = -5.210526315789474, z = 0.368421052631579\n",
          "output_type": "stream"
        }
      ],
      "execution_count": 5
    },
    {
      "cell_type": "markdown",
      "source": "Problem 5",
      "metadata": {}
    }
  ]
}