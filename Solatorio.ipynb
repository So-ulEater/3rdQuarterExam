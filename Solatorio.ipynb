{
  "metadata": {
    "kernelspec": {
      "name": "python",
      "display_name": "Python (Pyodide)",
      "language": "python"
    },
    "language_info": {
      "codemirror_mode": {
        "name": "python",
        "version": 3
      },
      "file_extension": ".py",
      "mimetype": "text/x-python",
      "name": "python",
      "nbconvert_exporter": "python",
      "pygments_lexer": "ipython3",
      "version": "3.8"
    }
  },
  "nbformat_minor": 4,
  "nbformat": 4,
  "cells": [
    {
      "cell_type": "code",
      "source": "import numpy as np",
      "metadata": {
        "trusted": true
      },
      "outputs": [],
      "execution_count": 1
    },
    {
      "cell_type": "markdown",
      "source": "Step 1: Creating a Random 10×1010 \\times 1010×10 Matrix",
      "metadata": {}
    },
    {
      "cell_type": "code",
      "source": "# Generate a random 10x10 matrix\nrandom_matrix_A = np.random.rand(10, 10)\nprint(\"Random 10x10 Matrix A:\")\nprint(random_matrix_A)",
      "metadata": {
        "trusted": true
      },
      "outputs": [
        {
          "name": "stdout",
          "text": "Random 10x10 Matrix A:\n[[0.37829579 0.05629901 0.54497638 0.48130198 0.66044226 0.30827973\n  0.18006866 0.27958453 0.48561141 0.05473598]\n [0.80189183 0.17390575 0.45059608 0.92006154 0.82154709 0.43308238\n  0.34770275 0.1259781  0.25067973 0.14995196]\n [0.52598239 0.5222267  0.79815632 0.89879166 0.55424525 0.54147141\n  0.56088379 0.65850487 0.10071507 0.00286875]\n [0.80865439 0.95718893 0.29709425 0.79346091 0.06105668 0.5629633\n  0.31786225 0.68341521 0.46933558 0.58758226]\n [0.39039025 0.50286602 0.88525948 0.11762679 0.24579866 0.14604883\n  0.84637652 0.77740511 0.89862689 0.88393466]\n [0.31750872 0.94383025 0.23503371 0.83349522 0.54606543 0.71330414\n  0.67231558 0.06142147 0.79956483 0.29111168]\n [0.31202767 0.58629632 0.99533497 0.14523659 0.28532014 0.11109178\n  0.2893295  0.07728242 0.08513843 0.96310773]\n [0.0696384  0.28695132 0.74364473 0.0120753  0.98853581 0.34462207\n  0.35266896 0.05414823 0.66781017 0.1938685 ]\n [0.8327457  0.90854251 0.03362048 0.56066766 0.012372   0.0143508\n  0.55402578 0.59182366 0.72986801 0.02292328]\n [0.41044354 0.55132693 0.56049738 0.93021442 0.80408778 0.48809328\n  0.51209489 0.1429253  0.98097399 0.17124224]]\n",
          "output_type": "stream"
        }
      ],
      "execution_count": 4
    },
    {
      "cell_type": "code",
      "source": "# Generate a second random 10x10 matrix\nrandom_matrix_B = np.random.rand(10, 10)\nprint(\"\\nRandom 10x10 Matrix B:\")\nprint(random_matrix_B)",
      "metadata": {
        "trusted": true
      },
      "outputs": [
        {
          "name": "stdout",
          "text": "\nRandom 10x10 Matrix B:\n[[0.59459012 0.67305603 0.06796931 0.74944711 0.75778122 0.97141688\n  0.85216664 0.93822184 0.76536447 0.88758978]\n [0.65832675 0.97219829 0.9378461  0.20019066 0.08978669 0.1650058\n  0.46672292 0.59390746 0.38185979 0.17893975]\n [0.50373089 0.54434643 0.42471632 0.66556932 0.37882082 0.61406976\n  0.42867403 0.86246578 0.68144729 0.35135277]\n [0.17212241 0.43061983 0.37121961 0.10542008 0.0093051  0.23621087\n  0.11854844 0.81652178 0.40311329 0.07127304]\n [0.69363272 0.63426928 0.85330508 0.26699964 0.90976133 0.50580171\n  0.03865295 0.06056872 0.63491066 0.10669265]\n [0.18253053 0.73911509 0.82118875 0.93612444 0.99381613 0.22818338\n  0.77360105 0.46860129 0.63457771 0.28636419]\n [0.62852072 0.06231305 0.96468544 0.95164438 0.30683527 0.05143558\n  0.10799223 0.55257181 0.57086545 0.17523528]\n [0.15409521 0.90043293 0.32479687 0.73543797 0.55605872 0.79641475\n  0.75357893 0.12266597 0.79016095 0.09742342]\n [0.21335963 0.69060329 0.01094745 0.60970133 0.50133607 0.60560105\n  0.58191937 0.98600979 0.25421856 0.16900766]\n [0.61843773 0.69432182 0.80083785 0.1318217  0.35643904 0.72913629\n  0.10142285 0.42872828 0.16667137 0.93039522]]\n",
          "output_type": "stream"
        }
      ],
      "execution_count": 6
    },
    {
      "cell_type": "markdown",
      "source": "2.2 Matrix Addition",
      "metadata": {}
    },
    {
      "cell_type": "code",
      "source": "# Matrix Addition\naddition_result = random_matrix_A + random_matrix_B\nprint(\"\\nA + B (Matrix Addition):\")\nprint(addition_result)",
      "metadata": {
        "trusted": true
      },
      "outputs": [
        {
          "name": "stdout",
          "text": "\nA + B (Matrix Addition):\n[[0.97288592 0.72935504 0.61294569 1.2307491  1.41822348 1.27969661\n  1.0322353  1.21780637 1.25097588 0.94232576]\n [1.46021859 1.14610404 1.38844218 1.12025221 0.91133378 0.59808819\n  0.81442567 0.71988556 0.63253952 0.3288917 ]\n [1.02971327 1.06657313 1.22287263 1.56436098 0.93306607 1.15554117\n  0.98955782 1.52097065 0.78216236 0.35422151]\n [0.9807768  1.38780876 0.66831387 0.89888098 0.07036178 0.79917417\n  0.43641069 1.49993698 0.87244887 0.65885531]\n [1.08402296 1.13713529 1.73856456 0.38462643 1.15555999 0.65185053\n  0.88502946 0.83797383 1.53353754 0.99062731]\n [0.50003925 1.68294534 1.05622246 1.76961967 1.53988156 0.94148751\n  1.44591663 0.53002277 1.43414254 0.57747587]\n [0.94054838 0.64860937 1.96002041 1.09688097 0.59215541 0.16252735\n  0.39732173 0.62985422 0.65600387 1.13834301]\n [0.22373361 1.18738425 1.0684416  0.74751327 1.54459453 1.14103682\n  1.10624788 0.1768142  1.45797113 0.29129192]\n [1.04610534 1.5991458  0.04456792 1.17036899 0.51370807 0.61995185\n  1.13594515 1.57783344 0.98408657 0.19193094]\n [1.02888127 1.24564875 1.36133524 1.06203612 1.16052682 1.21722957\n  0.61351774 0.57165358 1.14764536 1.10163747]]\n",
          "output_type": "stream"
        }
      ],
      "execution_count": 7
    },
    {
      "cell_type": "markdown",
      "source": "2.3 Matrix Subtraction",
      "metadata": {}
    },
    {
      "cell_type": "code",
      "source": "# Matrix Subtraction\nsubtraction_result = random_matrix_A - random_matrix_B\nprint(\"\\nA - B (Matrix Subtraction):\")\nprint(subtraction_result)",
      "metadata": {
        "trusted": true
      },
      "outputs": [
        {
          "name": "stdout",
          "text": "\nA - B (Matrix Subtraction):\n[[-0.21629433 -0.61675702  0.47700706 -0.26814513 -0.09733896 -0.66313716\n  -0.67209798 -0.65863731 -0.27975305 -0.8328538 ]\n [ 0.14356508 -0.79829254 -0.48725002  0.71987088  0.7317604   0.26807658\n  -0.11902017 -0.46792935 -0.13118006 -0.02898779]\n [ 0.0222515  -0.02211973  0.37344     0.23322234  0.17542442 -0.07259836\n   0.13220975 -0.20396092 -0.58073223 -0.34848402]\n [ 0.63653198  0.5265691  -0.07412536  0.68804083  0.05175159  0.32675242\n   0.1993138  -0.13310657  0.06622229  0.51630922]\n [-0.30324247 -0.13140326  0.0319544  -0.14937286 -0.66396266 -0.35975288\n   0.80772357  0.71683639  0.26371623  0.77724202]\n [ 0.13497819  0.20471515 -0.58615504 -0.10262922 -0.4477507   0.48512076\n  -0.10128547 -0.40717982  0.16498712  0.00474749]\n [-0.31649305  0.52398327  0.03064952 -0.80640778 -0.02151513  0.0596562\n   0.18133726 -0.47528939 -0.48572702  0.78787245]\n [-0.08445682 -0.6134816   0.41884786 -0.72336267  0.4324771  -0.45179268\n  -0.40090997 -0.06851774 -0.12235078  0.09644508]\n [ 0.61938607  0.21793922  0.02267303 -0.04903367 -0.48896407 -0.59125024\n  -0.02789358 -0.39418613  0.47564945 -0.14608438]\n [-0.20799419 -0.14299489 -0.24034047  0.79839273  0.44764874 -0.24104301\n   0.41067204 -0.28580298  0.81430263 -0.75915298]]\n",
          "output_type": "stream"
        }
      ],
      "execution_count": 8
    },
    {
      "cell_type": "markdown",
      "source": "Matrix Multiplication",
      "metadata": {}
    },
    {
      "cell_type": "code",
      "source": "# Matrix Multiplication\nmultiplication_result = np.dot(random_matrix_A, random_matrix_B)\nprint(\"\\nA * B (Matrix Multiplication):\")\nprint(multiplication_result)",
      "metadata": {
        "trusted": true
      },
      "outputs": [
        {
          "name": "stdout",
          "text": "\nA * B (Matrix Multiplication):\n[[1.42745339 2.0963516  1.61902463 1.85343943 1.88354689 1.79543594\n  1.42160867 2.07192207 1.94765977 0.92216364]\n [2.00970072 2.60378234 2.30636653 2.25360263 2.33620767 2.19541724\n  1.72709776 2.76725864 2.54128168 1.43352012]\n [2.17383781 3.13442083 2.87410527 2.8594235  2.388325   2.31981682\n  2.1966706  3.00445276 3.07029962 1.30112078]\n [2.31091218 3.80034281 2.89209207 2.79106526 2.35596612 2.74597344\n  2.67718315 3.47295015 2.84145706 1.96598298]\n [2.61665228 3.53510096 3.03418177 3.2387942  2.50375808 3.04264357\n  2.37311099 3.4358734  2.86344576 2.02229507]\n [2.36362015 3.34322427 3.27810753 2.69558867 2.37287766 2.0243188\n  2.09725825 3.40127021 2.58304526 1.38499645]\n [2.12361328 2.46255681 2.45884436 1.72021338 1.5551956  2.04525492\n  1.31710707 2.35354143 1.85956217 1.77287343]\n [1.84795717 2.28408938 2.24106232 2.00056215 2.14439868 1.76018602\n  1.30545763 2.05145272 1.96701214 0.93977124]\n [1.8272153  2.8093438  1.90645712 2.31470883 1.62924818 2.08002828\n  2.15899982 2.92337891 2.22345158 1.25833699]\n [2.35537231 3.34565535 2.9035811  2.77381608 2.58755369 2.43078445\n  2.1175226  3.57406575 2.78505097 1.38053046]]\n",
          "output_type": "stream"
        }
      ],
      "execution_count": 9
    },
    {
      "cell_type": "markdown",
      "source": "Transpose of a Matrix",
      "metadata": {}
    },
    {
      "cell_type": "code",
      "source": "# Transpose of random_matrix_A\ntranspose_result_A = random_matrix_A.T\nprint(\"\\nTranspose of Matrix A:\")\nprint(transpose_result_A)\n\n# Transpose of random_matrix_B\ntranspose_result_B = random_matrix_B.T\nprint(\"\\nTranspose of Matrix B:\")\nprint(transpose_result_B)",
      "metadata": {
        "trusted": true
      },
      "outputs": [
        {
          "name": "stdout",
          "text": "\nTranspose of Matrix A:\n[[0.37829579 0.80189183 0.52598239 0.80865439 0.39039025 0.31750872\n  0.31202767 0.0696384  0.8327457  0.41044354]\n [0.05629901 0.17390575 0.5222267  0.95718893 0.50286602 0.94383025\n  0.58629632 0.28695132 0.90854251 0.55132693]\n [0.54497638 0.45059608 0.79815632 0.29709425 0.88525948 0.23503371\n  0.99533497 0.74364473 0.03362048 0.56049738]\n [0.48130198 0.92006154 0.89879166 0.79346091 0.11762679 0.83349522\n  0.14523659 0.0120753  0.56066766 0.93021442]\n [0.66044226 0.82154709 0.55424525 0.06105668 0.24579866 0.54606543\n  0.28532014 0.98853581 0.012372   0.80408778]\n [0.30827973 0.43308238 0.54147141 0.5629633  0.14604883 0.71330414\n  0.11109178 0.34462207 0.0143508  0.48809328]\n [0.18006866 0.34770275 0.56088379 0.31786225 0.84637652 0.67231558\n  0.2893295  0.35266896 0.55402578 0.51209489]\n [0.27958453 0.1259781  0.65850487 0.68341521 0.77740511 0.06142147\n  0.07728242 0.05414823 0.59182366 0.1429253 ]\n [0.48561141 0.25067973 0.10071507 0.46933558 0.89862689 0.79956483\n  0.08513843 0.66781017 0.72986801 0.98097399]\n [0.05473598 0.14995196 0.00286875 0.58758226 0.88393466 0.29111168\n  0.96310773 0.1938685  0.02292328 0.17124224]]\n\nTranspose of Matrix B:\n[[0.59459012 0.65832675 0.50373089 0.17212241 0.69363272 0.18253053\n  0.62852072 0.15409521 0.21335963 0.61843773]\n [0.67305603 0.97219829 0.54434643 0.43061983 0.63426928 0.73911509\n  0.06231305 0.90043293 0.69060329 0.69432182]\n [0.06796931 0.9378461  0.42471632 0.37121961 0.85330508 0.82118875\n  0.96468544 0.32479687 0.01094745 0.80083785]\n [0.74944711 0.20019066 0.66556932 0.10542008 0.26699964 0.93612444\n  0.95164438 0.73543797 0.60970133 0.1318217 ]\n [0.75778122 0.08978669 0.37882082 0.0093051  0.90976133 0.99381613\n  0.30683527 0.55605872 0.50133607 0.35643904]\n [0.97141688 0.1650058  0.61406976 0.23621087 0.50580171 0.22818338\n  0.05143558 0.79641475 0.60560105 0.72913629]\n [0.85216664 0.46672292 0.42867403 0.11854844 0.03865295 0.77360105\n  0.10799223 0.75357893 0.58191937 0.10142285]\n [0.93822184 0.59390746 0.86246578 0.81652178 0.06056872 0.46860129\n  0.55257181 0.12266597 0.98600979 0.42872828]\n [0.76536447 0.38185979 0.68144729 0.40311329 0.63491066 0.63457771\n  0.57086545 0.79016095 0.25421856 0.16667137]\n [0.88758978 0.17893975 0.35135277 0.07127304 0.10669265 0.28636419\n  0.17523528 0.09742342 0.16900766 0.93039522]]\n",
          "output_type": "stream"
        }
      ],
      "execution_count": 10
    },
    {
      "cell_type": "markdown",
      "source": "1. Matrix Creation and Structure",
      "metadata": {}
    },
    {
      "cell_type": "code",
      "source": "Question: Explain what a matrix is and provide an example of a 3×2 matrix. Using NumPy, write code to create this matrix.\nAnswer: A matrix is a rectangular array of numbers, symbols, or expressions, arranged in rows and columns. It is often used \nin mathematics, particularly in linear algebra, to represent data or mathematical transformations. The numbers within the matrix are called elements.",
      "metadata": {
        "trusted": true
      },
      "outputs": [],
      "execution_count": null
    },
    {
      "cell_type": "code",
      "source": "# Create a 3x2 matrix\nmatrix = np.array([[1, 2], [3, 4], [5, 6]])\n\n# Display the matrix\nprint(matrix)",
      "metadata": {
        "trusted": true
      },
      "outputs": [
        {
          "name": "stdout",
          "text": "[[1 2]\n [3 4]\n [5 6]]\n",
          "output_type": "stream"
        }
      ],
      "execution_count": 11
    },
    {
      "cell_type": "markdown",
      "source": "2. Basic Matrix Operations",
      "metadata": {}
    },
    {
      "cell_type": "markdown",
      "source": "Question: Given two matrices A and B, describe the conditions necessary for performing matrix addition and matrix multiplication. \nWrite code to add and multiply two 5×5 matrices using NumPy.\nAnswer: \nMatrix Addition:\nMatrix addition requires both matrices to have the same dimensions (same number of rows and columns). If matrix A is m×n and matrix B is also m×n, their sum will be a matrix of size m×n.\n\nMatrix Multiplication:\nMatrix multiplication is possible if the number of columns of A matches the number of rows of B. If A is m×n and B is n×p, the resulting matrix will be of size m×p.",
      "metadata": {}
    },
    {
      "cell_type": "code",
      "source": "# Create two 5x5 matrices\nA = np.random.randint(1, 10, (5, 5))  \nB = np.random.randint(1, 10, (5, 5))  \n\n# Matrix Addition\nC_add = A + B\n\n# Matrix Multiplication\nC_mul = np.dot(A, B)\n\n# Display the matrices and results\nprint(\"Matrix A:\\n\", A)\nprint(\"\\nMatrix B:\\n\", B)\nprint(\"\\nMatrix A + B (Addition):\\n\", C_add)\nprint(\"\\nMatrix A * B (Multiplication):\\n\", C_mul)\n",
      "metadata": {
        "trusted": true
      },
      "outputs": [
        {
          "name": "stdout",
          "text": "Matrix A:\n [[9 2 7 3 8]\n [3 7 9 6 9]\n [5 1 4 5 4]\n [8 1 6 5 4]\n [3 5 3 5 4]]\n\nMatrix B:\n [[4 9 3 2 8]\n [1 8 5 1 7]\n [8 5 6 5 9]\n [3 8 9 9 9]\n [7 1 2 3 9]]\n\nMatrix A + B (Addition):\n [[13 11 10  5 16]\n [ 4 15 14  7 16]\n [13  6 10 10 13]\n [11  9 15 14 13]\n [10  6  5  8 13]]\n\nMatrix A * B (Multiplication):\n [[159 164 122 106 248]\n [172 185 170 139 289]\n [ 96 117  97  88 164]\n [124 154 118 104 206]\n [ 84 126 105  83 167]]\n",
          "output_type": "stream"
        }
      ],
      "execution_count": 12
    },
    {
      "cell_type": "markdown",
      "source": "3. Transpose of a Matrix",
      "metadata": {}
    },
    {
      "cell_type": "markdown",
      "source": "Question: Explain the concept of matrix transposition. What effect does it have on a 3×2 matrix? Write code to create a 3×2 matrix and find its transpose.\nAnswer: The transpose of a matrix is obtained by swapping its rows and columns. For a matrix A of size m×n, its transpose Aᵀ will be of size n×m, where each \nelement A[i][j] becomes Aᵀ[j][i].\nFor example, for a 3×2 matrix: \nA = [[1, 2],  \n     [3, 4],  \n     [5, 6]]\nIts transpose Aᵀ will be:\nAᵀ = [[1, 3, 5],  \n      [2, 4, 6]]",
      "metadata": {}
    },
    {
      "cell_type": "code",
      "source": "# Create a 3x2 matrix\nA = np.array([[1, 2], [3, 4], [5, 6]])\n\n# Transpose the matrix\nA_transpose = A.T\n\n# Display the matrices\nprint(\"Original Matrix:\\n\", A)\nprint(\"Transposed Matrix:\\n\", A_transpose)\n",
      "metadata": {
        "trusted": true
      },
      "outputs": [
        {
          "name": "stdout",
          "text": "Original Matrix:\n [[1 2]\n [3 4]\n [5 6]]\nTransposed Matrix:\n [[1 3 5]\n [2 4 6]]\n",
          "output_type": "stream"
        }
      ],
      "execution_count": 13
    },
    {
      "cell_type": "markdown",
      "source": "4. Working with Large Matrices",
      "metadata": {}
    },
    {
      "cell_type": "markdown",
      "source": "Question: Create a random 5×5 matrix using NumPy. Compute the sum of all elements in the matrix, then find its transpose. \nPrint both the sum and the transpose of the matrix.\n",
      "metadata": {}
    },
    {
      "cell_type": "code",
      "source": "# Create a random 5x5 matrix\nmatrix = np.random.randint(1, 10, (5, 5))\n\n# Compute the sum of all elements in the matrix\nmatrix_sum = np.sum(matrix)\n\n# Find the transpose of the matrix\nmatrix_transpose = matrix.T\n\n# Print the sum and the transpose\nprint(\"Matrix:\\n\", matrix)\nprint(\"\\nSum of all elements in the matrix:\", matrix_sum)\nprint(\"\\nTranspose of the matrix:\\n\", matrix_transpose)\n",
      "metadata": {
        "trusted": true
      },
      "outputs": [
        {
          "name": "stdout",
          "text": "Matrix:\n [[7 7 6 4 5]\n [9 1 5 1 5]\n [8 6 4 1 8]\n [8 9 4 5 2]\n [6 4 9 9 3]]\n\nSum of all elements in the matrix: 136\n\nTranspose of the matrix:\n [[7 9 8 8 6]\n [7 1 6 9 4]\n [6 5 4 4 9]\n [4 1 1 5 9]\n [5 5 8 2 3]]\n",
          "output_type": "stream"
        }
      ],
      "execution_count": 14
    },
    {
      "cell_type": "markdown",
      "source": "Applying Matrix Operations in Context",
      "metadata": {}
    },
    {
      "cell_type": "code",
      "source": "# Create two random 10x10 matrices\nD = np.random.randint(1, 10, (10, 10))\nE = np.random.randint(1, 10, (10, 10))\n\n# (a) Add the matrices\nmatrix_sum = D + E\n\n# (b) Subtract E from D\nmatrix_difference = D - E\n\n# (c) Multiply D and E using matrix multiplication\nmatrix_multiplication = np.dot(D, E)\n\n# Print the results\nprint(\"Matrix D:\\n\", D)\nprint(\"\\nMatrix E:\\n\", E)\n\nprint(\"\\n(a) Matrix D + E (Addition):\\n\", matrix_sum)\nprint(\"\\n(b) Matrix D - E (Subtraction):\\n\", matrix_difference)\nprint(\"\\n(c) Matrix D * E (Multiplication):\\n\", matrix_multiplication)\n",
      "metadata": {
        "trusted": true
      },
      "outputs": [
        {
          "name": "stdout",
          "text": "Matrix D:\n [[8 3 7 7 2 5 4 3 4 6]\n [8 3 2 1 5 8 2 2 6 6]\n [7 4 7 9 1 2 4 3 6 8]\n [1 8 5 4 8 1 2 1 9 2]\n [2 7 1 3 6 1 7 5 7 5]\n [4 9 3 8 3 8 2 9 5 2]\n [1 2 3 9 4 6 3 3 3 2]\n [8 5 8 7 8 2 9 1 5 8]\n [4 1 7 4 5 5 9 8 7 6]\n [9 5 7 2 1 4 7 4 1 7]]\n\nMatrix E:\n [[4 9 2 3 3 8 6 1 9 8]\n [9 3 7 5 2 5 6 6 7 6]\n [2 7 7 2 9 5 4 1 2 5]\n [5 4 8 4 9 1 5 8 4 6]\n [6 9 8 5 7 6 9 4 2 7]\n [8 6 3 4 3 4 8 5 9 2]\n [6 2 2 7 2 3 2 8 1 5]\n [9 4 6 5 3 1 1 5 1 9]\n [4 8 2 8 6 2 2 6 7 2]\n [3 9 8 9 9 3 2 8 3 6]]\n\n(a) Matrix D + E (Addition):\n [[12 12  9 10  5 13 10  4 13 14]\n [17  6  9  6  7 13  8  8 13 12]\n [ 9 11 14 11 10  7  8  4  8 13]\n [ 6 12 13  8 17  2  7  9 13  8]\n [ 8 16  9  8 13  7 16  9  9 12]\n [12 15  6 12  6 12 10 14 14  4]\n [ 7  4  5 16  6  9  5 11  4  7]\n [17  9 14 12 11  3 10  6  6 17]\n [ 8  9  9 12 11  7 11 14 14  8]\n [12 14 15 11 10  7  9 12  4 13]]\n\n(b) Matrix D - E (Subtraction):\n [[ 4 -6  5  4 -1 -3 -2  2 -5 -2]\n [-1  0 -5 -4  3  3 -4 -4 -1  0]\n [ 5 -3  0  7 -8 -3  0  2  4  3]\n [-4  4 -3  0 -1  0 -3 -7  5 -4]\n [-4 -2 -7 -2 -1 -5 -2  1  5 -2]\n [-4  3  0  4  0  4 -6  4 -4  0]\n [-5  0  1  2  2  3  1 -5  2 -3]\n [-1  1  2  2  5  1  8 -4  4 -1]\n [ 0 -7  5 -4 -1  3  7  2  0  4]\n [ 6 -4 -1 -7 -8  1  5 -4 -2  1]]\n\n(c) Matrix D * E (Multiplication):\n [[245 312 255 240 280 194 218 241 237 274]\n [234 306 199 230 216 190 218 206 247 225]\n [244 321 279 267 311 185 203 271 234 287]\n [225 260 236 222 238 160 201 214 188 212]\n [262 253 233 264 217 154 178 261 178 249]\n [344 289 288 259 253 181 248 284 267 299]\n [208 204 205 177 212 114 178 207 160 189]\n [299 389 331 321 354 254 278 315 254 348]\n [301 339 279 305 301 193 215 296 212 309]\n [246 287 234 235 232 204 197 224 215 279]]\n",
          "output_type": "stream"
        }
      ],
      "execution_count": 15
    },
    {
      "cell_type": "code",
      "source": "",
      "metadata": {
        "trusted": true
      },
      "outputs": [],
      "execution_count": null
    }
  ]
}