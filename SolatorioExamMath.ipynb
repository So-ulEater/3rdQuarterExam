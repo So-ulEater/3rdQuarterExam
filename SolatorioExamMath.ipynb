{
  "nbformat": 4,
  "nbformat_minor": 0,
  "metadata": {
    "colab": {
      "provenance": []
    },
    "kernelspec": {
      "name": "python3",
      "display_name": "Python 3"
    },
    "language_info": {
      "name": "python"
    }
  },
  "cells": [
    {
      "cell_type": "code",
      "execution_count": 8,
      "metadata": {
        "colab": {
          "base_uri": "https://localhost:8080/"
        },
        "id": "fqaXwm-9zU7M",
        "outputId": "1d8f99d9-dfe3-498d-a427-476c86d6a937"
      },
      "outputs": [
        {
          "output_type": "stream",
          "name": "stdout",
          "text": [
            "Generated 3x4 Matrix:\n",
            "[[16  6  6  2]\n",
            " [ 3 20  3 20]\n",
            " [ 8 19 14 13]]\n",
            "\n",
            "Coefficient Matrix (A):\n",
            "[[16  6  6]\n",
            " [ 3 20  3]\n",
            " [ 8 19 14]]\n",
            "\n",
            "Right-hand Side Vector (b):\n",
            "[ 2 20 13]\n",
            "\n",
            "Solution using Matrix Inverse Method:\n",
            "[-0.09852217  1.08866995 -0.49261084]\n",
            "\n",
            "Solution using Gaussian Elimination (NumPy):\n",
            "[-0.09852217  1.08866995 -0.49261084]\n",
            "\n",
            "Verification (Ax = b):\n",
            "[ 2. 20. 13.]\n",
            "\n",
            "The solution is verified: Ax = b\n"
          ]
        }
      ],
      "source": [
        "import numpy as np\n",
        "\n",
        "#Generate a 3x4 random matrix\n",
        "matrix_3x4 = np.random.randint(1, 21, size=(3, 4))  # Random integers between 1 and 20\n",
        "A = matrix_3x4[:, :3]  # Coefficient matrix (first 3 columns)\n",
        "b = matrix_3x4[:, 3]   # Right-hand side vector (last column)\n",
        "\n",
        "print(\"Generated 3x4 Matrix:\")\n",
        "print(matrix_3x4)\n",
        "print(\"\\nCoefficient Matrix (A):\")\n",
        "print(A)\n",
        "print(\"\\nRight-hand Side Vector (b):\")\n",
        "print(b)\n",
        "\n",
        "#Solve the system using the Matrix Inverse Method\n",
        "try:\n",
        "    A_inv = np.linalg.inv(A)  # Compute A^-1\n",
        "    x_manual = np.dot(A_inv, b)  # x = A^-1 * b\n",
        "    print(\"\\nSolution using Matrix Inverse Method:\")\n",
        "    print(x_manual)\n",
        "except np.linalg.LinAlgError:\n",
        "    print(\"\\nMatrix A is singular and cannot be inverted.\")\n",
        "\n",
        "#Solve the system using Gaussian Elimination\n",
        "x_gaussian = np.linalg.solve(A, b)  # Solve Ax = b directly\n",
        "print(\"\\nSolution using Gaussian Elimination (NumPy):\")\n",
        "print(x_gaussian)\n",
        "\n",
        "#Verify the solution\n",
        "b_check = np.dot(A, x_gaussian)\n",
        "print(\"\\nVerification (Ax = b):\")\n",
        "print(b_check)\n",
        "\n",
        "# Check if the solution is correct (within a small tolerance)\n",
        "if np.allclose(b_check, b):\n",
        "    print(\"\\nThe solution is verified: Ax = b\")\n",
        "else:\n",
        "    print(\"\\nThe solution is NOT verified: Ax != b\")\n",
        "\n"
      ]
    }
  ]
}