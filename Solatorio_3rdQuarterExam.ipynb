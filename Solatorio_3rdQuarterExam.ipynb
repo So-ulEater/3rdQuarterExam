{
  "metadata": {
    "kernelspec": {
      "name": "python",
      "display_name": "Python (Pyodide)",
      "language": "python"
    },
    "language_info": {
      "codemirror_mode": {
        "name": "python",
        "version": 3
      },
      "file_extension": ".py",
      "mimetype": "text/x-python",
      "name": "python",
      "nbconvert_exporter": "python",
      "pygments_lexer": "ipython3",
      "version": "3.8"
    }
  },
  "nbformat_minor": 4,
  "nbformat": 4,
  "cells": [
    {
      "cell_type": "code",
      "source": "import numpy as np\n\nA = np.array([\n    [3, 2, 1, 1, 0],\n    [1, 4, 2, 0, 1],\n    [2, 3, 4, 1, 0],\n    [1, 1, 3, 5, 0],\n    [0, 1, 2, 4, 3]\n])\n\nB = np.array([100, 150, 120, 110, 140])",
      "metadata": {
        "trusted": true
      },
      "outputs": [],
      "execution_count": 2
    },
    {
      "cell_type": "code",
      "source": "det_A = np.linalg.det(A)\nif det_A == 0:\n    print(\"Matrix A is singular and cannot be inverted!\")\nelse:\n    # Find the inverse of matrix A\n    A_inv = np.linalg.inv(A)\n\n    # Solve for X using the matrix inverse method\n    X = np.dot(A_inv, B)\n\n    print(\"Solution (Unknowns):\")\n    print(X)\n     ",
      "metadata": {
        "trusted": true
      },
      "outputs": [
        {
          "name": "stdout",
          "text": "Solution (Unknowns):\n[ 7.36462094 32.23826715 -1.62454874 15.05415162 16.93140794]\n",
          "output_type": "stream"
        }
      ],
      "execution_count": 3
    },
    {
      "cell_type": "markdown",
      "source": "Problem 1:",
      "metadata": {}
    },
    {
      "cell_type": "code",
      "source": "A1 = np.array([\n    [2, 1, -1],\n    [-1, 3, 2],\n    [1, -2, 4]\n])\n\nB1 = np.array([5, 6, 7])\n\ndet_A1 = np.linalg.det(A1)\nif det_A1 == 0:\n    print(\"Matrix A1 is singular and cannot be inverted!\")\nelse:\n    # Find the inverse of matrix A1\n    A1_inv = np.linalg.inv(A1)\n\n    # Solve for X using the matrix inverse method\n    X1 = np.dot(A1_inv, B1)\n\n    print(\"Solution (Unknowns):\")\n    print(X1)",
      "metadata": {
        "trusted": true
      },
      "outputs": [
        {
          "name": "stdout",
          "text": "Solution (Unknowns):\n[2.64102564 1.61538462 1.8974359 ]\n",
          "output_type": "stream"
        }
      ],
      "execution_count": 4
    },
    {
      "cell_type": "markdown",
      "source": "Problem 2: ",
      "metadata": {}
    },
    {
      "cell_type": "code",
      "source": "A2 = np.array([\n    [5, 3, 1, 1, 0],\n    [4, 6, 2, 0, 1],\n    [2, 7, 3, 1, 0],\n    [1, 2, 4, 5, 0],\n    [3, 4, 5, 0, 6]\n])\n\nB2 = np.array([200, 300, 150, 120, 250])\n\ndet_A2 = np.linalg.det(A2)\nif det_A2 == 0:\n    print(\"Matrix A2 is singular and cannot be inverted!\")\nelse:\n    # Find the inverse of matrix A1\n    A2_inv = np.linalg.inv(A2)\n\n    # Solve for X using the matrix inverse method\n    X2 = np.dot(A2_inv, B2)\n\n    print(\"Solution (Unknowns):\")\n    print(X2)",
      "metadata": {
        "trusted": true
      },
      "outputs": [
        {
          "name": "stdout",
          "text": "Solution (Unknowns):\n[ -23.86666667  137.6        -336.          242.53333333  241.86666667]\n",
          "output_type": "stream"
        }
      ],
      "execution_count": 5
    },
    {
      "cell_type": "markdown",
      "source": "Problem 3:",
      "metadata": {}
    },
    {
      "cell_type": "code",
      "source": "np.random.seed(42)\nA3 = np.random.randint(1, 10, size=(7, 7))\n\nB3 = np.random.randint(10, 100, size=7)\n\ndet_A3 = np.linalg.det(A3)\nif det_A3 == 0:\n    print(\"Matrix A3 is singular and cannot be inverted!\")\nelse:\n    # Find the inverse of matrix A1\n    A3_inv = np.linalg.inv(A3)\n\n    # Solve for X using the matrix inverse method\n    X3 = np.dot(A3_inv, B3)\n\n    print(\"Solution (Unknowns):\")\n    print(X3)\n     ",
      "metadata": {
        "trusted": true
      },
      "outputs": [
        {
          "name": "stdout",
          "text": "Solution (Unknowns):\n[ 3.34311393 10.17152918  0.49079184 -7.33151821  2.0390622   4.06600776\n -6.40401666]\n",
          "output_type": "stream"
        }
      ],
      "execution_count": 6
    },
    {
      "cell_type": "markdown",
      "source": "Problem 4:",
      "metadata": {}
    },
    {
      "cell_type": "code",
      "source": "np.random.seed(42)\nA4 = np.random.randint(1, 10, size=(5, 5))\n\nB4 = np.random.randint(10, 100, size=5)\n\ndet_A4 = np.linalg.det(A4)\nif det_A4 == 0:\n    print(\"Matrix A4 is singular and cannot be inverted!\")\nelse:\n    # Find the inverse of matrix A1\n    A4_inv = np.linalg.inv(A4)\n\n    # Solve for X using the matrix inverse method\n    X4 = np.dot(A4_inv, B4)\n\n    print(\"Solution (Unknowns):\")\n    print(X4)",
      "metadata": {
        "trusted": true
      },
      "outputs": [
        {
          "name": "stdout",
          "text": "Solution (Unknowns):\n[-22.91568627  -4.2496732   -2.85882353  20.22941176  23.30457516]\n",
          "output_type": "stream"
        }
      ],
      "execution_count": 7
    },
    {
      "cell_type": "markdown",
      "source": "Problem 5:",
      "metadata": {}
    },
    {
      "cell_type": "code",
      "source": "def solve_system(coefficients, constants):\n    A = np.array(coefficients)\n    B = np.array(constants)\n\n    det_A = np.linalg.det(A)\n\n    if det_A == 0:\n      print(\"Matrix A is singular and cannot be inverted!\")\n    else:\n      # Find the inverse of matrix A\n      A_inv = np.linalg.inv(A)\n\n      # Solve for X using the matrix inverse method\n      X = np.dot(A_inv, B)\n\n      return X\n\nsolution = solve_system(A, B)\nprint(\"Problem 5 solution:\")\nprint(solution)",
      "metadata": {
        "trusted": true
      },
      "outputs": [
        {
          "name": "stdout",
          "text": "Problem 5 solution:\n[ 7.36462094 32.23826715 -1.62454874 15.05415162 16.93140794]\n",
          "output_type": "stream"
        }
      ],
      "execution_count": 8
    },
    {
      "cell_type": "code",
      "source": "",
      "metadata": {
        "trusted": true
      },
      "outputs": [],
      "execution_count": null
    }
  ]
}