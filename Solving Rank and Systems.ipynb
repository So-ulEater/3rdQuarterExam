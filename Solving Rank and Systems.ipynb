{
  "metadata": {
    "kernelspec": {
      "name": "python",
      "display_name": "Python (Pyodide)",
      "language": "python"
    },
    "language_info": {
      "codemirror_mode": {
        "name": "python",
        "version": 3
      },
      "file_extension": ".py",
      "mimetype": "text/x-python",
      "name": "python",
      "nbconvert_exporter": "python",
      "pygments_lexer": "ipython3",
      "version": "3.8"
    }
  },
  "nbformat_minor": 4,
  "nbformat": 4,
  "cells": [
    {
      "cell_type": "code",
      "source": "import numpy as np",
      "metadata": {
        "trusted": true
      },
      "outputs": [],
      "execution_count": 1
    },
    {
      "cell_type": "markdown",
      "source": "Problem 1: Rank of a matrix",
      "metadata": {}
    },
    {
      "cell_type": "code",
      "source": "# Define the matrix A\nA = np.array([\n    [1, 2, 0, 4],\n    [3, 6, 0, 8],\n    [5, 10, 0, 12],\n    [7, 14, 0, 16]\n])\n\n# Compute the rank of the matrix\nrank = np.linalg.matrix_rank(A)\n\n# Print the rank of the matrix\nprint(f\"The rank of matrix A is: {rank}\")",
      "metadata": {
        "trusted": true
      },
      "outputs": [
        {
          "name": "stdout",
          "text": "The rank of matrix A is: 2\n",
          "output_type": "stream"
        }
      ],
      "execution_count": 3
    },
    {
      "cell_type": "markdown",
      "source": "Problem 2: Solve a 3x3 System of Equations",
      "metadata": {}
    },
    {
      "cell_type": "code",
      "source": "# Define the coefficient matrix and the constants\ncoefficients = np.array([\n    [1, 1, 1],\n    [2, 4, 3],\n    [0, 0, 1]\n])\nconstants = np.array([6, 18, 5])  # Constants on the right-hand side\n\n# Check if the determinant is non-zero (a prerequisite for inversion)\ndeterminant = np.linalg.det(coefficients)\nif determinant != 0:\n    # Find the inverse of the coefficient matrix\n    coefficients_inverse = np.linalg.inv(coefficients)\n\n    # Solve for the variables by multiplying the inverse with the constants\n    solution = np.dot(coefficients_inverse, constants)\n\n    print(\"The solution to the system of equations is:\")\n    print(f\"x = {solution[0]}, y = {solution[1]}, z = {solution[2]}\")\nelse:\n    print(\"The coefficient matrix is singular and cannot be inverted.\")\n",
      "metadata": {
        "trusted": true
      },
      "outputs": [
        {
          "name": "stdout",
          "text": "The solution to the system of equations is:\nx = 0.5, y = 0.5, z = 5.0\n",
          "output_type": "stream"
        }
      ],
      "execution_count": 4
    },
    {
      "cell_type": "markdown",
      "source": "Problem 4",
      "metadata": {}
    },
    {
      "cell_type": "code",
      "source": "import numpy as np\n\n# Define matrix A and vector B\nA = np.array([[1, 1, 1, 0],\n              [2, 1, 0, 3],\n              [4, 3, 2, 1],\n              [3, 0, 5, 2]])\nB = np.array([10, 11, 20, 15])\n\n# Calculate the inverse of A\nA_inv = np.linalg.inv(A)\n\n# Solve for X\nX = A_inv.dot(B)\n\n# Print the solution\nprint(\"Solution for Problem 4 (4x4 system):\")\nprint(f\"x1 = {X[0]}, x2 = {X[1]}, x3 = {X[2]}, x4 = {X[3]}\")\n",
      "metadata": {
        "trusted": true
      },
      "outputs": [],
      "execution_count": null
    }
  ]
}